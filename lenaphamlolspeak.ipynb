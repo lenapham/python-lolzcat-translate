{
 "cells": [
  {
   "cell_type": "code",
   "execution_count": 17,
   "metadata": {},
   "outputs": [],
   "source": [
    "import json, requests #import json\n",
    "url = 'https://raw.githubusercontent.com/normansimonr/Dumb-Cogs/master/lolz/data/tranzlashun.json'\n",
    "resp = requests.get(url)\n",
    "data = json.loads(resp.text)\n",
    "\n",
    "dictionary = data #variable for json "
   ]
  },
  {
   "cell_type": "code",
   "execution_count": 18,
   "metadata": {},
   "outputs": [
    {
     "name": "stdout",
     "output_type": "stream",
     "text": [
      "Hi. Welcome to LolSpeak Translator. This program is created to translate your files from English to LolSpeak.\n",
      "What .txt file would you like to translate in the directory?hello.txt\n",
      "oh hai u r awesome. has  gud dai bye. i will c u saturday!\n"
     ]
    }
   ],
   "source": [
    "#introduction to program\n",
    "print(\"Hi. Welcome to LolSpeak Translator. This program is created to translate your files from English to LolSpeak.\")\n",
    "file_to_translate = input(\"What .txt file would you like to translate in the directory?\")\n",
    "\n",
    "sample_text = open(file_to_translate, \"r\") #opens file, reads\n",
    "text = sample_text.readlines()\n",
    "str_text = '\\n'.join(text)\n",
    "text_split = str_text.split() #split text\n",
    "#print(text_split)\n",
    "#list(text_split) #inlist\n",
    "words_in_list = list(text_split) #list with words to be translated\n",
    "\n",
    "#translation loop for lolcats words and keep words not found in dictionary\n",
    "\n",
    "new_words = []\n",
    "for words in words_in_list:\n",
    "    if words in dictionary:\n",
    "        new_words.append(dictionary[words])\n",
    "    elif words not in dictionary:\n",
    "        new_words.append(words)\n",
    "\n",
    "#makes new file and adding name _lolcat to the end\n",
    "new_text_file = file_to_translate.replace('.txt','_lolcat.txt')\n",
    "new_file_create = open(new_text_file, 'w')\n",
    "read_file_txt = ' '.join(new_words)\n",
    "\n",
    "#convert dictionary to string\n",
    "new_file_create.write(read_file_txt)\n",
    "print(read_file_txt)\n",
    "\n",
    "#closes file\n",
    "new_file_create.close()"
   ]
  },
  {
   "cell_type": "code",
   "execution_count": null,
   "metadata": {},
   "outputs": [],
   "source": []
  }
 ],
 "metadata": {
  "kernelspec": {
   "display_name": "Python 3",
   "language": "python",
   "name": "python3"
  },
  "language_info": {
   "codemirror_mode": {
    "name": "ipython",
    "version": 3
   },
   "file_extension": ".py",
   "mimetype": "text/x-python",
   "name": "python",
   "nbconvert_exporter": "python",
   "pygments_lexer": "ipython3",
   "version": "3.8.8"
  }
 },
 "nbformat": 4,
 "nbformat_minor": 2
}
